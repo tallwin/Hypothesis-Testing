{
 "cells": [
  {
   "cell_type": "markdown",
   "id": "c9b3b95e",
   "metadata": {},
   "source": [
    "Q1.A F&B manager wants to determine whether there is any significant difference in the diameter of the cutlet between two units. A randomly selected sample of cutlets was collected from both units and measured? Analyze the data and draw inferences at 5% significance level. Please state the assumptions and tests that you carried out to check validity of the assumptions."
   ]
  },
  {
   "cell_type": "code",
   "execution_count": 1,
   "id": "cd14a5e3",
   "metadata": {
    "ExecuteTime": {
     "end_time": "2021-09-20T14:03:02.570172Z",
     "start_time": "2021-09-20T14:03:00.895580Z"
    }
   },
   "outputs": [],
   "source": [
    "import pandas as pd \n",
    "from scipy import stats"
   ]
  },
  {
   "cell_type": "code",
   "execution_count": 2,
   "id": "67a6cd74",
   "metadata": {
    "ExecuteTime": {
     "end_time": "2021-09-20T14:03:02.611195Z",
     "start_time": "2021-09-20T14:03:02.575662Z"
    }
   },
   "outputs": [
    {
     "data": {
      "text/html": [
       "<div>\n",
       "<style scoped>\n",
       "    .dataframe tbody tr th:only-of-type {\n",
       "        vertical-align: middle;\n",
       "    }\n",
       "\n",
       "    .dataframe tbody tr th {\n",
       "        vertical-align: top;\n",
       "    }\n",
       "\n",
       "    .dataframe thead th {\n",
       "        text-align: right;\n",
       "    }\n",
       "</style>\n",
       "<table border=\"1\" class=\"dataframe\">\n",
       "  <thead>\n",
       "    <tr style=\"text-align: right;\">\n",
       "      <th></th>\n",
       "      <th>Unit A</th>\n",
       "      <th>Unit B</th>\n",
       "    </tr>\n",
       "  </thead>\n",
       "  <tbody>\n",
       "    <tr>\n",
       "      <th>0</th>\n",
       "      <td>6.8090</td>\n",
       "      <td>6.7703</td>\n",
       "    </tr>\n",
       "    <tr>\n",
       "      <th>1</th>\n",
       "      <td>6.4376</td>\n",
       "      <td>7.5093</td>\n",
       "    </tr>\n",
       "    <tr>\n",
       "      <th>2</th>\n",
       "      <td>6.9157</td>\n",
       "      <td>6.7300</td>\n",
       "    </tr>\n",
       "    <tr>\n",
       "      <th>3</th>\n",
       "      <td>7.3012</td>\n",
       "      <td>6.7878</td>\n",
       "    </tr>\n",
       "    <tr>\n",
       "      <th>4</th>\n",
       "      <td>7.4488</td>\n",
       "      <td>7.1522</td>\n",
       "    </tr>\n",
       "  </tbody>\n",
       "</table>\n",
       "</div>"
      ],
      "text/plain": [
       "   Unit A  Unit B\n",
       "0  6.8090  6.7703\n",
       "1  6.4376  7.5093\n",
       "2  6.9157  6.7300\n",
       "3  7.3012  6.7878\n",
       "4  7.4488  7.1522"
      ]
     },
     "execution_count": 2,
     "metadata": {},
     "output_type": "execute_result"
    }
   ],
   "source": [
    "df = pd.read_csv(\"Cutlets.csv\")\n",
    "df.head()"
   ]
  },
  {
   "cell_type": "code",
   "execution_count": 3,
   "id": "d7982280",
   "metadata": {
    "ExecuteTime": {
     "end_time": "2021-09-20T14:03:02.644308Z",
     "start_time": "2021-09-20T14:03:02.615726Z"
    }
   },
   "outputs": [
    {
     "data": {
      "text/plain": [
       "0     6.8090\n",
       "1     6.4376\n",
       "2     6.9157\n",
       "3     7.3012\n",
       "4     7.4488\n",
       "5     7.3871\n",
       "6     6.8755\n",
       "7     7.0621\n",
       "8     6.6840\n",
       "9     6.8236\n",
       "10    7.3930\n",
       "11    7.5169\n",
       "12    6.9246\n",
       "13    6.9256\n",
       "14    6.5797\n",
       "15    6.8394\n",
       "16    6.5970\n",
       "17    7.2705\n",
       "18    7.2828\n",
       "19    7.3495\n",
       "20    6.9438\n",
       "21    7.1560\n",
       "22    6.5341\n",
       "23    7.2854\n",
       "24    6.9952\n",
       "25    6.8568\n",
       "26    7.2163\n",
       "27    6.6801\n",
       "28    6.9431\n",
       "29    7.0852\n",
       "30    6.7794\n",
       "31    7.2783\n",
       "32    7.1561\n",
       "33    7.3943\n",
       "34    6.9405\n",
       "Name: Unit A, dtype: float64"
      ]
     },
     "execution_count": 3,
     "metadata": {},
     "output_type": "execute_result"
    }
   ],
   "source": [
    "unitA = pd.Series(df.iloc[:,0])\n",
    "unitA"
   ]
  },
  {
   "cell_type": "code",
   "execution_count": 4,
   "id": "3d111a35",
   "metadata": {
    "ExecuteTime": {
     "end_time": "2021-09-20T14:03:02.663810Z",
     "start_time": "2021-09-20T14:03:02.646822Z"
    }
   },
   "outputs": [
    {
     "data": {
      "text/plain": [
       "0     6.7703\n",
       "1     7.5093\n",
       "2     6.7300\n",
       "3     6.7878\n",
       "4     7.1522\n",
       "5     6.8110\n",
       "6     7.2212\n",
       "7     6.6606\n",
       "8     7.2402\n",
       "9     7.0503\n",
       "10    6.8810\n",
       "11    7.4059\n",
       "12    6.7652\n",
       "13    6.0380\n",
       "14    7.1581\n",
       "15    7.0240\n",
       "16    6.6672\n",
       "17    7.4314\n",
       "18    7.3070\n",
       "19    6.7478\n",
       "20    6.8889\n",
       "21    7.4220\n",
       "22    6.5217\n",
       "23    7.1688\n",
       "24    6.7594\n",
       "25    6.9399\n",
       "26    7.0133\n",
       "27    6.9182\n",
       "28    6.3346\n",
       "29    7.5459\n",
       "30    7.0992\n",
       "31    7.1180\n",
       "32    6.6965\n",
       "33    6.5780\n",
       "34    7.3875\n",
       "Name: Unit B, dtype: float64"
      ]
     },
     "execution_count": 4,
     "metadata": {},
     "output_type": "execute_result"
    }
   ],
   "source": [
    "unitB = pd.Series(df.iloc[:,1])\n",
    "unitB"
   ]
  },
  {
   "cell_type": "markdown",
   "id": "bfd1aef3",
   "metadata": {},
   "source": [
    "mean"
   ]
  },
  {
   "cell_type": "code",
   "execution_count": 5,
   "id": "89dfdff6",
   "metadata": {
    "ExecuteTime": {
     "end_time": "2021-09-20T14:03:02.679421Z",
     "start_time": "2021-09-20T14:03:02.667450Z"
    }
   },
   "outputs": [
    {
     "data": {
      "text/plain": [
       "7.01909142857143"
      ]
     },
     "execution_count": 5,
     "metadata": {},
     "output_type": "execute_result"
    }
   ],
   "source": [
    "unitA_mean = unitA.mean()\n",
    "unitA_mean"
   ]
  },
  {
   "cell_type": "code",
   "execution_count": 6,
   "id": "d812c442",
   "metadata": {
    "ExecuteTime": {
     "end_time": "2021-09-20T14:03:02.709265Z",
     "start_time": "2021-09-20T14:03:02.683087Z"
    }
   },
   "outputs": [
    {
     "data": {
      "text/plain": [
       "6.964297142857142"
      ]
     },
     "execution_count": 6,
     "metadata": {},
     "output_type": "execute_result"
    }
   ],
   "source": [
    "unitB_mean = unitB.mean()\n",
    "unitB_mean"
   ]
  },
  {
   "cell_type": "markdown",
   "id": "6238e2fc",
   "metadata": {},
   "source": [
    "We can say the mean of unit A is close to Mean of unit B"
   ]
  },
  {
   "cell_type": "markdown",
   "id": "dad6477c",
   "metadata": {},
   "source": [
    "standard deviation"
   ]
  },
  {
   "cell_type": "code",
   "execution_count": 7,
   "id": "9611fbb1",
   "metadata": {
    "ExecuteTime": {
     "end_time": "2021-09-20T14:03:02.724554Z",
     "start_time": "2021-09-20T14:03:02.712097Z"
    }
   },
   "outputs": [
    {
     "data": {
      "text/plain": [
       "0.2884084841815496"
      ]
     },
     "execution_count": 7,
     "metadata": {},
     "output_type": "execute_result"
    }
   ],
   "source": [
    "unitA_std = unitA.std()\n",
    "unitA_std"
   ]
  },
  {
   "cell_type": "code",
   "execution_count": 8,
   "id": "b76155a7",
   "metadata": {
    "ExecuteTime": {
     "end_time": "2021-09-20T14:03:02.740070Z",
     "start_time": "2021-09-20T14:03:02.728852Z"
    }
   },
   "outputs": [
    {
     "data": {
      "text/plain": [
       "0.343400647063108"
      ]
     },
     "execution_count": 8,
     "metadata": {},
     "output_type": "execute_result"
    }
   ],
   "source": [
    "unitB_std = unitB.std()\n",
    "unitB_std"
   ]
  },
  {
   "cell_type": "markdown",
   "id": "feb7971c",
   "metadata": {},
   "source": [
    "p value"
   ]
  },
  {
   "cell_type": "code",
   "execution_count": 9,
   "id": "1b39df85",
   "metadata": {
    "ExecuteTime": {
     "end_time": "2021-09-20T14:03:02.756294Z",
     "start_time": "2021-09-20T14:03:02.743484Z"
    }
   },
   "outputs": [
    {
     "data": {
      "text/plain": [
       "Ttest_indResult(statistic=0.7228688704678063, pvalue=0.4722394724599501)"
      ]
     },
     "execution_count": 9,
     "metadata": {},
     "output_type": "execute_result"
    }
   ],
   "source": [
    "p_value = stats.ttest_ind(unitA,unitB)\n",
    "p_value"
   ]
  },
  {
   "cell_type": "code",
   "execution_count": 10,
   "id": "f36b5ccb",
   "metadata": {
    "ExecuteTime": {
     "end_time": "2021-09-20T14:03:02.779753Z",
     "start_time": "2021-09-20T14:03:02.756790Z"
    }
   },
   "outputs": [
    {
     "data": {
      "text/plain": [
       "0.4722394724599501"
      ]
     },
     "execution_count": 10,
     "metadata": {},
     "output_type": "execute_result"
    }
   ],
   "source": [
    "p_value[1]"
   ]
  },
  {
   "cell_type": "code",
   "execution_count": 11,
   "id": "93029545",
   "metadata": {
    "ExecuteTime": {
     "end_time": "2021-09-20T14:03:02.807981Z",
     "start_time": "2021-09-20T14:03:02.779753Z"
    }
   },
   "outputs": [],
   "source": [
    "#compare p_value with α=5% significance level"
   ]
  },
  {
   "cell_type": "markdown",
   "id": "0ad22667",
   "metadata": {},
   "source": [
    "#inference: As (p_value = 0.4722) > (α = 0.05) Accept NULL hypothesis "
   ]
  },
  {
   "cell_type": "markdown",
   "id": "9ea1539d",
   "metadata": {},
   "source": [
    "i.e. μ1 = μ2 (Thus, there is no significance difference in diameters of the cutlets between two units. "
   ]
  }
 ],
 "metadata": {
  "kernelspec": {
   "display_name": "Python 3 (ipykernel)",
   "language": "python",
   "name": "python3"
  },
  "language_info": {
   "codemirror_mode": {
    "name": "ipython",
    "version": 3
   },
   "file_extension": ".py",
   "mimetype": "text/x-python",
   "name": "python",
   "nbconvert_exporter": "python",
   "pygments_lexer": "ipython3",
   "version": "3.8.8"
  },
  "varInspector": {
   "cols": {
    "lenName": 16,
    "lenType": 16,
    "lenVar": 40
   },
   "kernels_config": {
    "python": {
     "delete_cmd_postfix": "",
     "delete_cmd_prefix": "del ",
     "library": "var_list.py",
     "varRefreshCmd": "print(var_dic_list())"
    },
    "r": {
     "delete_cmd_postfix": ") ",
     "delete_cmd_prefix": "rm(",
     "library": "var_list.r",
     "varRefreshCmd": "cat(var_dic_list()) "
    }
   },
   "types_to_exclude": [
    "module",
    "function",
    "builtin_function_or_method",
    "instance",
    "_Feature"
   ],
   "window_display": false
  }
 },
 "nbformat": 4,
 "nbformat_minor": 5
}
